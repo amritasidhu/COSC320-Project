{
 "cells": [
  {
   "cell_type": "markdown",
   "id": "30278dc0-8f0c-4fa7-9006-31a68b142e95",
   "metadata": {},
   "source": [
    "## Project Milestone 3\n",
    "\n",
    "Executing the naive approach and plotting the runtime."
   ]
  },
  {
   "cell_type": "code",
   "execution_count": null,
   "id": "ab48e2d9-321d-4408-b375-e66dd53cce84",
   "metadata": {
    "tags": []
   },
   "outputs": [],
   "source": [
    "import numpy as np\n",
    "import pandas as pd\n",
    "import matplotlib\n",
    "import matplotlib.pyplot as plt\n",
    "import seaborn as sns\n",
    "import time"
   ]
  },
  {
   "cell_type": "code",
   "execution_count": null,
   "id": "5d1377ed-5639-4e8e-b389-b79a99655aa4",
   "metadata": {
    "tags": []
   },
   "outputs": [],
   "source": [
    "#Import data from csv files\n",
    "df1 = pd.read_csv('favorite-tweets.csv')\n",
    "df1 = df1.dropna()\n",
    "df1['Text'] = df1['Text'].astype('str')\n",
    "\n",
    "\n",
    "tweets = []\n",
    "for i in df1['Text']:\n",
    "    tweets.append(i)\n",
    "\n",
    "\n",
    "df2 = pd.read_csv('Acronyms.csv')\n",
    "df2 = df2.dropna()\n",
    "df2['Acronym'] = df2['Acronym'].astype('str')\n",
    "df2['Meaning'] = df2['Meaning'].astype('str')\n",
    "\n",
    "\n",
    "acronyms = []\n",
    "meaning = []\n",
    "acron = []\n",
    "\n",
    "for i in df2['Acronym']:\n",
    "    acronyms.append(i)   \n",
    "for i in df2['Meaning']:\n",
    "    meaning.append(i)\n",
    "# print(tweets)\n",
    "# print(acronyms)\n",
    "# print(meaning)\n",
    "\n",
    "\n",
    "counter = 0\n",
    "for i in acronyms:\n",
    "    acron.append([i, meaning[counter]])\n",
    "    counter = counter + 1\n",
    "\n",
    "for index in range(len(tweets)):\n",
    "    tweets[index] = tweets[index].split()\n",
    "# print(len(tweets)+1)"
   ]
  },
  {
   "cell_type": "code",
   "execution_count": null,
   "id": "437a3534-1fb5-4d7b-978c-5d634be08618",
   "metadata": {
    "tags": []
   },
   "outputs": [],
   "source": [
    "# Naive Approach Algorithm\n",
    "# loop for replacement of the acronyms\n",
    "\n",
    "# for troubleshooting\n",
    "# print(tweets)\n",
    "# print(tweets[0][5])\n",
    "# print(tweets[0])\n",
    "\n",
    "# these arrays will store the times taken and the and multiplier (ie 1/32th 1/31th ... size to the original of the acronym and tweet amounts)\n",
    "times = []\n",
    "multiplier = []\n",
    "runs = 11\n",
    "\n",
    "\n",
    "for index in range(1,runs):\n",
    "    start = time.time()\n",
    "    for i in range((len(tweets))*index//(5*runs)):\n",
    "        \n",
    "        for j in range(len(acron[0][0])*index//(50*runs)):\n",
    "\n",
    "            for word in range(0,len(tweets[i])):\n",
    "      \n",
    "                if tweets[i][word] == acron[0][0][j]:\n",
    "                    tweets[i][word] = acron[0][1][j]\n",
    "    \n",
    "    finish = time.time()\n",
    "    # print(finish-start)\n",
    "    # print(index)\n",
    "    times.append(finish-start)  \n",
    "    multiplier.append(index/runs)\n",
    "             \n",
    "# for i in range(len(tweets)//2):\n",
    "#     for j in range(len(acron)//2):\n",
    "#         if tweets[i] == acron[0][0][j]:\n",
    "#             tweets[i] = acron[0][1][j]"
   ]
  },
  {
   "cell_type": "code",
   "execution_count": null,
   "id": "09043580-3d95-41c3-8300-7401dea7bb28",
   "metadata": {
    "tags": []
   },
   "outputs": [],
   "source": [
    "#Plotting our results\n",
    "data = pd.DataFrame()\n",
    "data['x'] = multiplier\n",
    "data['y'] = times\n",
    "data['Algorithm'] = 'Naive Approach'\n",
    "\n",
    "exp = pd.DataFrame()\n",
    "exp['x'] = data['x']\n",
    "exp['y'] = 10*data['x']**2 \n",
    "exp['Algorithm'] = 'Example 10*n^2 function'\n",
    "\n",
    "results = pd.merge(data,exp, how = 'outer')\n",
    "sns.set_theme(style=\"ticks\",\n",
    "              font_scale=1.3, # This scales the fonts slightly higher\n",
    "             )\n",
    "sns.lmplot(x='x',y='y', data=results, ci=None, hue='Algorithm', palette='colorblind', order=2, truncate=True).set(title='Algorithm Run Time',xlabel='Input Size as a Fraction of Dataset',ylabel='Time (s)')"
   ]
  },
  {
   "cell_type": "code",
   "execution_count": null,
   "id": "089f14a1-85a3-4554-a687-06795eccf96c",
   "metadata": {},
   "outputs": [],
   "source": []
  }
 ],
 "metadata": {
  "kernelspec": {
   "display_name": "Python 3 (ipykernel)",
   "language": "python",
   "name": "python3"
  },
  "language_info": {
   "codemirror_mode": {
    "name": "ipython",
    "version": 3
   },
   "file_extension": ".py",
   "mimetype": "text/x-python",
   "name": "python",
   "nbconvert_exporter": "python",
   "pygments_lexer": "ipython3",
   "version": "3.10.9"
  }
 },
 "nbformat": 4,
 "nbformat_minor": 5
}
