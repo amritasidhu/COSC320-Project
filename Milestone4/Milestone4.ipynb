{
 "cells": [
  {
   "cell_type": "markdown",
   "id": "30278dc0-8f0c-4fa7-9006-31a68b142e95",
   "metadata": {},
   "source": [
    "## Project Milestone 4\n",
    "\n",
    "Executing our second milestone approach and plotting the runtime."
   ]
  },
  {
   "cell_type": "code",
   "execution_count": 1,
   "id": "ab48e2d9-321d-4408-b375-e66dd53cce84",
   "metadata": {
    "tags": []
   },
   "outputs": [],
   "source": [
    "import numpy as np\n",
    "import pandas as pd\n",
    "import matplotlib\n",
    "import matplotlib.pyplot as plt\n",
    "import seaborn as sns\n",
    "import time"
   ]
  },
  {
   "cell_type": "code",
   "execution_count": 75,
   "id": "5d1377ed-5639-4e8e-b389-b79a99655aa4",
   "metadata": {
    "tags": []
   },
   "outputs": [
    {
     "name": "stdout",
     "output_type": "stream",
     "text": [
      "[[0         0D \n",
      "1        1AM \n",
      "2         1D \n",
      "3        2AM \n",
      "4         2D \n",
      "        ...  \n",
      "5837      zC \n",
      "5838      ZC \n",
      "5839     ZCM \n",
      "5840    ZCMK \n",
      "5841     ZCU \n",
      "Name: Acronym, Length: 5835, dtype: object, 0                                 obvious deed\n",
      "1                       Air Mechanic 1st Class\n",
      "2                                          One\n",
      "3                       Air Mechanic 2nd Class\n",
      "4                                          Two\n",
      "                         ...                  \n",
      "5837                              Zeptocoulomb\n",
      "5838                              Zettacoulomb\n",
      "5839     (n) ZENworks Configuration Management\n",
      "5840                   Zone Control Master Key\n",
      "5841                    Zimbabwe Cricket Union\n",
      "Name: Meaning, Length: 5835, dtype: object]]\n"
     ]
    }
   ],
   "source": [
    "#Import data from csv files\n",
    "\n",
    "#Import Tweets \n",
    "df1 = pd.read_csv('favorite-tweets.csv')\n",
    "df1 = df1.dropna()\n",
    "df1['Text'] = df1['Text'].astype('str')\n",
    "\n",
    "tweets = []\n",
    "for i in df1['Text']:\n",
    "    tweets.append(i)\n",
    "\n",
    "#Import File with Acronyms and Meanings into seperate lists\n",
    "df2 = pd.read_csv('Acronyms.csv')\n",
    "df2 = df2.dropna()\n",
    "df2['Acronym'] = df2['Acronym'].astype('str')\n",
    "df2['Meaning'] = df2['Meaning'].astype('str')\n",
    "\n",
    "\n",
    "acronyms = []\n",
    "meaning = []\n",
    "acron = []\n",
    "\n",
    "\n",
    "acronyms.append(df2['Acronym'])\n",
    "meaning.append(df2['Meaning'])\n",
    "# print(tweets)\n",
    "# print(acronyms)\n",
    "# print(meaning)\n",
    "\n",
    "#acron will be a array with the acronym and then the full version of the acronym\n",
    "counter = 0\n",
    "for i in acronyms:\n",
    "    acron.append([i, meaning[counter]])\n",
    "    counter = counter + 1\n",
    "\n",
    "#split each tweet into lists of words\n",
    "for index in range(len(tweets)):\n",
    "    tweets[index] = tweets[index].split()\n",
    "# print(len(tweets)+1)\n",
    "# print (len(tweets[0][0]))"
   ]
  },
  {
   "cell_type": "code",
   "execution_count": 62,
   "id": "7b5aeb8f",
   "metadata": {},
   "outputs": [],
   "source": [
    "# these arrays will store the times taken and the and multiplier (ie 1/32th 1/31th ... size to the original of the acronym and tweet amounts)\n",
    "times = []\n",
    "multiplier = []\n",
    "runs = 7\n",
    "\n",
    "# print(acron[0][0][1])\n",
    "\n",
    "\n",
    "# #Function:\n",
    "\n",
    "# def slangCheck(tweet,acron):\n",
    "#     # Do something with the value\n",
    "#     print(tweet)"
   ]
  },
  {
   "cell_type": "code",
   "execution_count": 74,
   "id": "437a3534-1fb5-4d7b-978c-5d634be08618",
   "metadata": {
    "tags": []
   },
   "outputs": [
    {
     "ename": "ValueError",
     "evalue": "The truth value of a Series is ambiguous. Use a.empty, a.bool(), a.item(), a.any() or a.all().",
     "output_type": "error",
     "traceback": [
      "\u001b[1;31m---------------------------------------------------------------------------\u001b[0m",
      "\u001b[1;31mValueError\u001b[0m                                Traceback (most recent call last)",
      "Cell \u001b[1;32mIn[74], line 44\u001b[0m\n\u001b[0;32m     41\u001b[0m \u001b[38;5;66;03m#Call function for each tweet in tweets\u001b[39;00m\n\u001b[0;32m     43\u001b[0m \u001b[38;5;28;01mfor\u001b[39;00m tweet \u001b[38;5;129;01min\u001b[39;00m tweets:\n\u001b[1;32m---> 44\u001b[0m     \u001b[43mslangCheck\u001b[49m\u001b[43m(\u001b[49m\u001b[43mtweet\u001b[49m\u001b[43m,\u001b[49m\u001b[43macron\u001b[49m\u001b[43m)\u001b[49m\n\u001b[0;32m     45\u001b[0m \u001b[38;5;66;03m#     print(slangCheck)\u001b[39;00m\n",
      "Cell \u001b[1;32mIn[74], line 14\u001b[0m, in \u001b[0;36mslangCheck\u001b[1;34m(tweet, acron)\u001b[0m\n\u001b[0;32m     11\u001b[0m \u001b[38;5;28;01melse\u001b[39;00m:                                                \u001b[38;5;66;03m#if list length > 1\u001b[39;00m\n\u001b[0;32m     12\u001b[0m     p \u001b[38;5;241m=\u001b[39m \u001b[38;5;28mint\u001b[39m((\u001b[38;5;28mlen\u001b[39m(acron))\u001b[38;5;241m/\u001b[39m\u001b[38;5;241m2\u001b[39m)                             \u001b[38;5;66;03m#set p as halfway point\u001b[39;00m\n\u001b[1;32m---> 14\u001b[0m     \u001b[38;5;28;01mif\u001b[39;00m tweet[\u001b[38;5;241m0\u001b[39m:\u001b[38;5;241m2\u001b[39m] \u001b[38;5;241m>\u001b[39m acron[p][\u001b[38;5;241m0\u001b[39m][\u001b[38;5;241m0\u001b[39m:\u001b[38;5;241m2\u001b[39m]:                    \u001b[38;5;66;03m#if the first two letters of word are further in alphabet...\u001b[39;00m\n\u001b[0;32m     15\u001b[0m         slangCheck(tweet, acron[p:])                     \u001b[38;5;66;03m#split array and run slangCheck again w back end\u001b[39;00m\n\u001b[0;32m     17\u001b[0m     \u001b[38;5;28;01melif\u001b[39;00m tweet[\u001b[38;5;241m0\u001b[39m:\u001b[38;5;241m2\u001b[39m] \u001b[38;5;241m<\u001b[39m acron[p][\u001b[38;5;241m0\u001b[39m][\u001b[38;5;241m0\u001b[39m:\u001b[38;5;241m2\u001b[39m]:                  \u001b[38;5;66;03m#if the first two letters of word are closer in alphabet...\u001b[39;00m\n",
      "File \u001b[1;32m~\\AppData\\Local\\Programs\\Python\\Python311\\Lib\\site-packages\\pandas\\core\\generic.py:1527\u001b[0m, in \u001b[0;36mNDFrame.__nonzero__\u001b[1;34m(self)\u001b[0m\n\u001b[0;32m   1525\u001b[0m \u001b[38;5;129m@final\u001b[39m\n\u001b[0;32m   1526\u001b[0m \u001b[38;5;28;01mdef\u001b[39;00m \u001b[38;5;21m__nonzero__\u001b[39m(\u001b[38;5;28mself\u001b[39m) \u001b[38;5;241m-\u001b[39m\u001b[38;5;241m>\u001b[39m NoReturn:\n\u001b[1;32m-> 1527\u001b[0m     \u001b[38;5;28;01mraise\u001b[39;00m \u001b[38;5;167;01mValueError\u001b[39;00m(\n\u001b[0;32m   1528\u001b[0m         \u001b[38;5;124mf\u001b[39m\u001b[38;5;124m\"\u001b[39m\u001b[38;5;124mThe truth value of a \u001b[39m\u001b[38;5;132;01m{\u001b[39;00m\u001b[38;5;28mtype\u001b[39m(\u001b[38;5;28mself\u001b[39m)\u001b[38;5;241m.\u001b[39m\u001b[38;5;18m__name__\u001b[39m\u001b[38;5;132;01m}\u001b[39;00m\u001b[38;5;124m is ambiguous. \u001b[39m\u001b[38;5;124m\"\u001b[39m\n\u001b[0;32m   1529\u001b[0m         \u001b[38;5;124m\"\u001b[39m\u001b[38;5;124mUse a.empty, a.bool(), a.item(), a.any() or a.all().\u001b[39m\u001b[38;5;124m\"\u001b[39m\n\u001b[0;32m   1530\u001b[0m     )\n",
      "\u001b[1;31mValueError\u001b[0m: The truth value of a Series is ambiguous. Use a.empty, a.bool(), a.item(), a.any() or a.all()."
     ]
    }
   ],
   "source": [
    "#Function:\n",
    "\n",
    "def slangCheck(tweet,acron): \n",
    "#     print(acron[0][0])\n",
    "    \n",
    "    if len(acron[0][0]) == 1:                  #base case: acron is a single value list\n",
    "        if tweet[0] == acron[0][0]:                    #if value is a match, return the meaning \n",
    "            return acron[1]\n",
    "        else:                                            #else return the og word as is (not slang)\n",
    "            return word\n",
    "    else:                                                #if list length > 1\n",
    "        p = int((len(acron))/2)                             #set p as halfway point\n",
    "        \n",
    "        if tweet[0:2] > acron[p][0][0:2]:                    #if the first two letters of word are further in alphabet...\n",
    "            slangCheck(tweet, acron[p:])                     #split array and run slangCheck again w back end\n",
    "            \n",
    "        elif tweet[0:2] < acron[p][0][0:2]:                  #if the first two letters of word are closer in alphabet...\n",
    "            slangCheck(tweet, acron[:p])                     #split array and run slangCheck again w front end\n",
    "            \n",
    "        elif tweet[0:2] == acron[p][0][0:2]:                 #if the first two letters are the same...\n",
    "            i = p                                        #starting from position [p]...\n",
    "            while tweet[0:2] == acron[p][0][0:2]:            #traverse the right end of the list while the first two letters remain equal\n",
    "                \n",
    "                if tweet == acron[i][0]:                     #if a match is found, return the meaning\n",
    "                    return acron[i][1]\n",
    "                else:                                    #else continue searching\n",
    "                    i = i + 1\n",
    "                    \n",
    "            i = p - 1                                    #starting from position [p-1]...\n",
    "            while tweet[0:2] == acron[p][0][0:2]:            #traverse the left end of the list while the first two letters remain equal\n",
    "                \n",
    "                if tweet == acron[i][0]:                     #if a match is found, return the meaning\n",
    "                    return acron[i][1]\n",
    "                else:\n",
    "                    i = i - 1                            #else continue searching\n",
    "                \n",
    "            return tweet                                  #else return the og word as is (not slang)\n",
    "\n",
    "\n",
    "\n",
    "#Call function for each tweet in tweets\n",
    "\n",
    "for tweet in tweets:\n",
    "    slangCheck(tweet,acron)\n",
    "#     print(slangCheck)\n",
    "    \n"
   ]
  },
  {
   "cell_type": "code",
   "execution_count": null,
   "id": "09043580-3d95-41c3-8300-7401dea7bb28",
   "metadata": {
    "tags": []
   },
   "outputs": [],
   "source": []
  },
  {
   "cell_type": "code",
   "execution_count": null,
   "id": "089f14a1-85a3-4554-a687-06795eccf96c",
   "metadata": {},
   "outputs": [],
   "source": []
  }
 ],
 "metadata": {
  "kernelspec": {
   "display_name": "Python 3 (ipykernel)",
   "language": "python",
   "name": "python3"
  },
  "language_info": {
   "codemirror_mode": {
    "name": "ipython",
    "version": 3
   },
   "file_extension": ".py",
   "mimetype": "text/x-python",
   "name": "python",
   "nbconvert_exporter": "python",
   "pygments_lexer": "ipython3",
   "version": "3.11.1"
  }
 },
 "nbformat": 4,
 "nbformat_minor": 5
}
