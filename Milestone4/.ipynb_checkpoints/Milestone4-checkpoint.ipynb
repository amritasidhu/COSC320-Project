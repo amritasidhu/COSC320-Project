{
 "cells": [
  {
   "cell_type": "markdown",
   "id": "30278dc0-8f0c-4fa7-9006-31a68b142e95",
   "metadata": {},
   "source": [
    "## Project Milestone 4\n",
    "\n",
    "Executing our second milestone approach and plotting the runtime."
   ]
  },
  {
   "cell_type": "code",
   "execution_count": 2,
   "id": "ab48e2d9-321d-4408-b375-e66dd53cce84",
   "metadata": {
    "tags": []
   },
   "outputs": [],
   "source": [
    "import numpy as np\n",
    "import pandas as pd\n",
    "import matplotlib\n",
    "import matplotlib.pyplot as plt\n",
    "import seaborn as sns\n",
    "import time"
   ]
  },
  {
   "cell_type": "code",
   "execution_count": 30,
   "id": "5d1377ed-5639-4e8e-b389-b79a99655aa4",
   "metadata": {
    "tags": []
   },
   "outputs": [],
   "source": [
    "#Import data from csv files\n",
    "df1 = pd.read_csv('favorite-tweets.csv')\n",
    "df1 = df1.dropna()\n",
    "df1['Text'] = df1['Text'].astype('str')\n",
    "\n",
    "\n",
    "tweets = []\n",
    "for i in df1['Text']:\n",
    "    tweets.append(i)\n",
    "\n",
    "\n",
    "df2 = pd.read_csv('Acronyms.csv')\n",
    "df2 = df2.dropna()\n",
    "df2['Acronym'] = df2['Acronym'].astype('str')\n",
    "df2['Meaning'] = df2['Meaning'].astype('str')\n",
    "\n",
    "acronyms = []\n",
    "meaning = []\n",
    "acron = []\n",
    "\n",
    "for i in df2['Acronym']:\n",
    "    acronyms.append(i)   \n",
    "for i in df2['Meaning']:\n",
    "    meaning.append(i)\n",
    "\n",
    "# print(tweets)\n",
    "# print(acronyms)\n",
    "# print(meaning)\n",
    "\n",
    "\n",
    "counter = 0\n",
    "for i in acronyms:\n",
    "    acron.append([i, meaning[counter]])\n",
    "    counter = counter + 1\n",
    "\n",
    "for index in range(len(tweets)):\n",
    "    tweets[index] = tweets[index].split()\n",
    "# print(len(tweets)+1)"
   ]
  },
  {
   "cell_type": "code",
   "execution_count": 26,
   "id": "7b5aeb8f",
   "metadata": {
    "tags": []
   },
   "outputs": [],
   "source": [
    "# these arrays will store the times taken and the and multiplier (ie 1/32th 1/31th ... size to the original of the acronym and tweet amounts)\n",
    "times = []\n",
    "multiplier = []\n",
    "runs = 7\n",
    "\n",
    "# print(acron[0][0][1])\n",
    "\n",
    "\n",
    "# #Function:\n",
    "\n",
    "# def slangCheck(tweet,acron):\n",
    "#     # Do something with the value\n",
    "#     print(tweet)"
   ]
  },
  {
   "cell_type": "code",
   "execution_count": 38,
   "id": "437a3534-1fb5-4d7b-978c-5d634be08618",
   "metadata": {
    "tags": []
   },
   "outputs": [],
   "source": [
    "#Function:\n",
    "def slangCheck(word,wb):\n",
    "    if len(wb) == 1:                                     #base case: wb is a single value list\n",
    "        if word == wb[0][0]:                             #if value is a match, return the meaning \n",
    "            return wb[0][1]\n",
    "        else:                                            #else return the og word as is (not slang)\n",
    "            return word\n",
    "        \n",
    "    else:                                                #if list length > 1\n",
    "        p = int((len(wb))/2)                             #set p as halfway point\n",
    "        \n",
    "        if word[0:2] > wb[p][0][0:2]:                    #if the first two letters of word are further in alphabet...\n",
    "            return slangCheck(word, wb[p:])              #split array and run slangCheck again w back end\n",
    "            \n",
    "        elif word[0:2] < wb[p][0][0:2]:                  #if the first two letters of word are further in alphabet...\n",
    "            return slangCheck(word, wb[:p])              #split array and run slangCheck again w front end\n",
    "            \n",
    "        elif word[0:2] == wb[p][0][0:2]:                 #if the first two letters are the same...\n",
    "            i = p                                        #starting from position [p]...\n",
    "            while word[0:2] == wb[i][0][0:2]:            #traverse the right end of the list while the first two letters remain equal\n",
    "                \n",
    "                if word == wb[i][0]:                     #if a match is found, return the meaning\n",
    "                    return wb[i][1]\n",
    "                else:                                    #else continue searching\n",
    "                    if i < len(wb) - 1:\n",
    "                        i = i + 1\n",
    "                    else:\n",
    "                        return word\n",
    "                    \n",
    "            i = p - 1                                    #starting from position [p-1]...\n",
    "            while word[0:2] == wb[i][0][0:2]:            #traverse the left end of the list while the first two letters remain equal\n",
    "                \n",
    "                if word == wb[i][0]:                     #if a match is found, return the meaning\n",
    "                    return wb[i][1]\n",
    "                else:                                    #else continue searching\n",
    "                    if i < len(wb) - 1:\n",
    "                        i = i - 1\n",
    "                    else:\n",
    "                        return word\n",
    "                \n",
    "            return word                                  #else return the og word as is (not slang)   \n",
    "        \n",
    "\n",
    "#Call function for each word in each tweet in tweets\n",
    "for tweet in tweets:\n",
    "    for word in tweet:\n",
    "        word = str(slangCheck(word,acron))\n",
    "#     print(slangCheck)"
   ]
  },
  {
   "cell_type": "code",
   "execution_count": null,
   "id": "adffbaaf-79d5-4686-9bb1-097e153768ad",
   "metadata": {},
   "outputs": [],
   "source": []
  }
 ],
 "metadata": {
  "kernelspec": {
   "display_name": "Python 3 (ipykernel)",
   "language": "python",
   "name": "python3"
  },
  "language_info": {
   "codemirror_mode": {
    "name": "ipython",
    "version": 3
   },
   "file_extension": ".py",
   "mimetype": "text/x-python",
   "name": "python",
   "nbconvert_exporter": "python",
   "pygments_lexer": "ipython3",
   "version": "3.10.9"
  }
 },
 "nbformat": 4,
 "nbformat_minor": 5
}
